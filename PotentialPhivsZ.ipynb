{
  "nbformat": 4,
  "nbformat_minor": 0,
  "metadata": {
    "colab": {
      "name": "PotentialPhivsZ.ipynb",
      "provenance": [],
      "authorship_tag": "ABX9TyOYRaSZ414u0+kyFizDHatt",
      "include_colab_link": true
    },
    "kernelspec": {
      "name": "python3",
      "display_name": "Python 3"
    },
    "language_info": {
      "name": "python"
    }
  },
  "cells": [
    {
      "cell_type": "markdown",
      "metadata": {
        "id": "view-in-github",
        "colab_type": "text"
      },
      "source": [
        "<a href=\"https://colab.research.google.com/github/asanyal122/Notebooks/blob/main/PotentialPhivsZ.ipynb\" target=\"_parent\"><img src=\"https://colab.research.google.com/assets/colab-badge.svg\" alt=\"Open In Colab\"/></a>"
      ]
    },
    {
      "cell_type": "code",
      "metadata": {
        "id": "AlkW3NkWKaqZ"
      },
      "source": [
        "import sympy as smp\n",
        "import numpy as np\n",
        "import matplotlib.pyplot as plt\n",
        "import math\n",
        "from scipy.constants import epsilon_0"
      ],
      "execution_count": null,
      "outputs": []
    },
    {
      "cell_type": "code",
      "metadata": {
        "colab": {
          "base_uri": "https://localhost:8080/",
          "height": 68
        },
        "id": "W8h-OrHPOfWL",
        "outputId": "4dcb7d04-13c1-416c-a44d-1a9af7d13b54"
      },
      "source": [
        "Q,a,v,z,eps,Pi=smp.symbols('Q a v z epsilon0 pi')\n",
        "expr=smp.sympify(((Q/(4*Pi*eps))*((1/smp.sqrt(4*a*a+z*z))-(1/smp.sqrt(a*a+4*z*z))))+(v*a)/z,evaluate=False,rational=True)\n",
        "expr"
      ],
      "execution_count": null,
      "outputs": [
        {
          "output_type": "execute_result",
          "data": {
            "text/latex": "$\\displaystyle \\frac{Q \\left(\\frac{1}{\\sqrt{4 a^{2} + z^{2}}} - \\frac{1}{\\sqrt{a^{2} + 4 z^{2}}}\\right)}{4 \\epsilon_{0} \\pi} + \\frac{a v}{z}$",
            "text/plain": [
              "Q*(1/sqrt(4*a**2 + z**2) - 1/sqrt(a**2 + 4*z**2))/(4*epsilon0*pi) + a*v/z"
            ]
          },
          "metadata": {},
          "execution_count": 2
        }
      ]
    },
    {
      "cell_type": "code",
      "metadata": {
        "colab": {
          "base_uri": "https://localhost:8080/"
        },
        "id": "WFbILlbQQxKO",
        "outputId": "4b7a895f-433e-476b-ac91-8a8853772c9f"
      },
      "source": [
        "Q_val=10\n",
        "Pi_val=math.pi\n",
        "a_val=10\n",
        "v_val=10\n",
        "Pi_val"
      ],
      "execution_count": null,
      "outputs": [
        {
          "output_type": "execute_result",
          "data": {
            "text/plain": [
              "3.141592653589793"
            ]
          },
          "metadata": {},
          "execution_count": 3
        }
      ]
    },
    {
      "cell_type": "code",
      "metadata": {
        "id": "2mEKTtCkUoPl"
      },
      "source": [
        "z_vals=np.arange(-100,100)\n",
        "phi_z=[expr.subs([(Q,Q_val),(a,a_val),(v,v_val),(z,z_val),(Pi,Pi_val),(eps,epsilon_0)]).evalf() for z_val in z_vals]"
      ],
      "execution_count": null,
      "outputs": []
    },
    {
      "cell_type": "code",
      "metadata": {
        "colab": {
          "base_uri": "https://localhost:8080/"
        },
        "id": "Hu8FyYsCaIle",
        "outputId": "20e404d0-94a2-4ae2-b5d1-6326c8b7a301"
      },
      "source": [
        "phi_z"
      ],
      "execution_count": null,
      "outputs": [
        {
          "output_type": "execute_result",
          "data": {
            "text/plain": [
              "[432485041.025476,\n",
              " 436517665.886295,\n",
              " 440622577.115041,\n",
              " 444801612.967208,\n",
              " 449056668.611891,\n",
              " 453389697.960930,\n",
              " 457802715.534497,\n",
              " 462297798.359557,\n",
              " 466877087.896831,\n",
              " 471542791.990836,\n",
              " 476297186.836465,\n",
              " 481142618.954223,\n",
              " 486081507.164667,\n",
              " 491116344.550851,\n",
              " 496249700.395472,\n",
              " 501484222.077048,\n",
              " 506822636.906682,\n",
              " 512267753.883802,\n",
              " 517822465.345563,\n",
              " 523489748.480350,\n",
              " 529272666.670920,\n",
              " 535174370.627019,\n",
              " 541198099.260776,\n",
              " 547347180.250564,\n",
              " 553625030.230237,\n",
              " 560035154.530528,\n",
              " 566581146.387571,\n",
              " 573266685.519933,\n",
              " 580095535.959701,\n",
              " 587071543.004849,\n",
              " 594198629.138822,\n",
              " 601480788.738520,\n",
              " 608922081.363118,\n",
              " 616526623.382655,\n",
              " 624298577.666314,\n",
              " 632242141.004823,\n",
              " 640361528.888277,\n",
              " 648660957.198643,\n",
              " 657144620.303564,\n",
              " 665816664.953065,\n",
              " 674681159.281044,\n",
              " 683742056.096364,\n",
              " 693003149.510812,\n",
              " 702468023.789217,\n",
              " 712139993.116279,\n",
              " 722022030.749462,\n",
              " 732116685.761341,\n",
              " 742425985.259991,\n",
              " 752951319.603119,\n",
              " 763693307.679086,\n",
              " 774651638.802141,\n",
              " 785824887.143370,\n",
              " 797210293.873024,\n",
              " 808803511.299517,\n",
              " 820598302.225992,\n",
              " 832586186.470812,\n",
              " 844756024.969825,\n",
              " 857093530.042267,\n",
              " 869580688.193326,\n",
              " 882195079.164758,\n",
              " 894909071.732520,\n",
              " 907688872.867054,\n",
              " 920493402.169798,\n",
              " 933272957.797089,\n",
              " 945967633.155691,\n",
              " 958505435.226150,\n",
              " 970800045.098908,\n",
              " 982748148.769618,\n",
              " 994226250.908007,\n",
              " 1005086865.53392,\n",
              " 1015153954.48765,\n",
              " 1024217456.24771,\n",
              " 1032026712.74554,\n",
              " 1038282558.74282,\n",
              " 1042627785.03998,\n",
              " 1044635620.71098,\n",
              " 1043795797.47254,\n",
              " 1039497657.13233,\n",
              " 1031009635.77276,\n",
              " 1017454299.80519,\n",
              " 997777912.260904,\n",
              " 970713265.544050,\n",
              " 934734224.417616,\n",
              " 888000083.189841,\n",
              " 828287478.068675,\n",
              " 752907284.600527,\n",
              " 658603862.624374,\n",
              " 541434637.582598,\n",
              " 396630342.789040,\n",
              " 218442527.310386,\n",
              " -10.0000000000000,\n",
              " -266770128.360343,\n",
              " -591026761.681068,\n",
              " -982420452.242535,\n",
              " -1449433791.25260,\n",
              " -1995555854.52181,\n",
              " -2611589086.77746,\n",
              " -3262703767.56926,\n",
              " -3873258254.01070,\n",
              " -4324850520.25477,\n",
              " zoo,\n",
              " -4324850320.25477,\n",
              " -3873258154.01070,\n",
              " -3262703700.90259,\n",
              " -2611589036.77746,\n",
              " -1995555814.52181,\n",
              " -1449433757.91926,\n",
              " -982420423.671107,\n",
              " -591026736.681068,\n",
              " -266770106.138121,\n",
              " 10.0000000000000,\n",
              " 218442545.492204,\n",
              " 396630359.455707,\n",
              " 541434652.967213,\n",
              " 658603876.910088,\n",
              " 752907297.933860,\n",
              " 828287490.568675,\n",
              " 888000094.954547,\n",
              " 934734235.528728,\n",
              " 970713276.070366,\n",
              " 997777922.260904,\n",
              " 1017454309.32899,\n",
              " 1031009644.86367,\n",
              " 1039497665.82798,\n",
              " 1043795805.80587,\n",
              " 1044635628.71098,\n",
              " 1042627792.73229,\n",
              " 1038282566.15022,\n",
              " 1032026719.88840,\n",
              " 1024217463.14426,\n",
              " 1015153961.15432,\n",
              " 1005086871.98553,\n",
              " 994226257.158007,\n",
              " 982748154.830224,\n",
              " 970800050.981261,\n",
              " 958505440.940436,\n",
              " 945967638.711247,\n",
              " 933272963.202495,\n",
              " 920493407.432956,\n",
              " 907688877.995259,\n",
              " 894909076.732520,\n",
              " 882195084.042807,\n",
              " 869580692.955231,\n",
              " 857093534.693430,\n",
              " 844756029.515279,\n",
              " 832586190.915256,\n",
              " 820598306.573818,\n",
              " 808803515.554836,\n",
              " 797210298.039691,\n",
              " 785824891.225003,\n",
              " 774651642.802141,\n",
              " 763693311.600655,\n",
              " 752951323.449273,\n",
              " 742425989.033576,\n",
              " 732116689.465044,\n",
              " 722022034.385826,\n",
              " 712139996.687707,\n",
              " 702468027.297989,\n",
              " 693003152.959088,\n",
              " 683742059.486195,\n",
              " 674681162.614377,\n",
              " 665816668.231754,\n",
              " 657144623.529370,\n",
              " 648660960.373246,\n",
              " 640361532.013277,\n",
              " 632242144.081746,\n",
              " 624298580.696617,\n",
              " 616526626.367730,\n",
              " 608922084.304295,\n",
              " 601480791.637071,\n",
              " 594198631.995965,\n",
              " 587071545.821750,\n",
              " 580095538.737478,\n",
              " 573266688.259659,\n",
              " 566581149.090274,\n",
              " 560035157.197195,\n",
              " 553625032.861816,\n",
              " 547347182.847966,\n",
              " 541198101.824879,\n",
              " 535174373.158664,\n",
              " 529272669.170920,\n",
              " 523489750.949486,\n",
              " 517822467.784588,\n",
              " 512267756.293441,\n",
              " 506822639.287634,\n",
              " 501484224.429989,\n",
              " 496249702.721054,\n",
              " 491116346.849701,\n",
              " 486081509.437394,\n",
              " 481142621.201414,\n",
              " 476297189.058688,\n",
              " 471542794.188638,\n",
              " 466877090.070744,\n",
              " 462297800.510095,\n",
              " 457802717.662156,\n",
              " 453389700.066193,\n",
              " 449056670.695224,\n",
              " 444801615.029064,\n",
              " 440622579.155858,\n",
              " 436517667.906497]"
            ]
          },
          "metadata": {},
          "execution_count": 5
        }
      ]
    },
    {
      "cell_type": "code",
      "metadata": {
        "id": "ddUtDvLNWGas"
      },
      "source": [
        "#replace complex zoo with numpy infinity\n",
        "for i in range(len(phi_z)):\n",
        "  if phi_z[i]==smp.zoo:\n",
        "    phi_z[i]=np.inf"
      ],
      "execution_count": null,
      "outputs": []
    },
    {
      "cell_type": "code",
      "metadata": {
        "id": "K2mMQgnSj3-H"
      },
      "source": [
        "mx=np.NINF\n",
        "mn=np.inf\n",
        "#minmax scale\n",
        "for i in range(len(phi_z)):\n",
        "  if phi_z[i]==np.inf:\n",
        "    pass\n",
        "  else:\n",
        "    mx=max(mx,phi_z[i])\n",
        "    mn=min(mn,phi_z[i])\n",
        "\n",
        "\n"
      ],
      "execution_count": null,
      "outputs": []
    },
    {
      "cell_type": "code",
      "metadata": {
        "id": "ctsGzDRGdRtv"
      },
      "source": [
        "phi_z=np.array(phi_z)\n",
        "for i in range(len(phi_z)):\n",
        "  if phi_z[i]==np.inf:\n",
        "    pass\n",
        "  else:\n",
        "    phi_z[i]=(phi_z[i]-mn)/(mx-mn)\n",
        "z_vals=(z_vals-np.min(z_vals))/(np.max(z_vals)-np.min(z_vals))"
      ],
      "execution_count": null,
      "outputs": []
    },
    {
      "cell_type": "code",
      "metadata": {
        "colab": {
          "base_uri": "https://localhost:8080/",
          "height": 621
        },
        "id": "GpuEi4CpYk0l",
        "outputId": "6739b81c-58bb-4dac-b2af-192b13a2d776"
      },
      "source": [
        "plt.figure(figsize=(15,10))\n",
        "plt.title('Potential vs Distance')\n",
        "plt.xlabel(r'Distance')\n",
        "plt.ylabel(r'Potential $\\phi(0,0,z)$')\n",
        "plt.plot(phi_z,z_vals,'b-')\n",
        "plt.savefig('phivsz.pdf')"
      ],
      "execution_count": null,
      "outputs": [
        {
          "output_type": "display_data",
          "data": {
            "image/png": "[encoded data removed]",
            "text/plain": [
              "<Figure size 1080x720 with 1 Axes>"
            ]
          },
          "metadata": {
            "needs_background": "light"
          }
        }
      ]
    }
  ]
}