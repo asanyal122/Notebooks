{
  "nbformat": 4,
  "nbformat_minor": 0,
  "metadata": {
    "colab": {
      "name": "Copy of PlottingExample.ipynb",
      "provenance": [],
      "collapsed_sections": []
    },
    "kernelspec": {
      "name": "python3",
      "display_name": "Python 3"
    },
    "language_info": {
      "name": "python"
    }
  },
  "cells": [
    {
      "cell_type": "code",
      "metadata": {
        "id": "XHyi-W0SQB5d"
      },
      "source": [
        "import pandas as pd\n",
        "import numpy as np\n",
        "import matplotlib.pyplot as plt\n",
        "from numpy.polynomial import Polynomial"
      ],
      "execution_count": null,
      "outputs": []
    },
    {
      "cell_type": "code",
      "metadata": {
        "colab": {
          "base_uri": "https://localhost:8080/",
          "height": 565
        },
        "id": "ikixoZvbPf8Z",
        "outputId": "93262de1-9feb-40fc-d211-1426edb5738b"
      },
      "source": [
        "# load the dataset\n",
        "url = 'https://raw.githubusercontent.com/jbrownlee/Datasets/master/longley.csv'\n",
        "df = pd.read_csv(url,names=['A','Current','C','Voltage','E','F','G'])\n",
        "df"
      ],
      "execution_count": null,
      "outputs": [
        {
          "output_type": "execute_result",
          "data": {
            "text/html": [
              "<div>\n",
              "<style scoped>\n",
              "    .dataframe tbody tr th:only-of-type {\n",
              "        vertical-align: middle;\n",
              "    }\n",
              "\n",
              "    .dataframe tbody tr th {\n",
              "        vertical-align: top;\n",
              "    }\n",
              "\n",
              "    .dataframe thead th {\n",
              "        text-align: right;\n",
              "    }\n",
              "</style>\n",
              "<table border=\"1\" class=\"dataframe\">\n",
              "  <thead>\n",
              "    <tr style=\"text-align: right;\">\n",
              "      <th></th>\n",
              "      <th>A</th>\n",
              "      <th>Current</th>\n",
              "      <th>C</th>\n",
              "      <th>Voltage</th>\n",
              "      <th>E</th>\n",
              "      <th>F</th>\n",
              "      <th>G</th>\n",
              "    </tr>\n",
              "  </thead>\n",
              "  <tbody>\n",
              "    <tr>\n",
              "      <th>0</th>\n",
              "      <td>83.0</td>\n",
              "      <td>234.289</td>\n",
              "      <td>235.6</td>\n",
              "      <td>159.0</td>\n",
              "      <td>107.608</td>\n",
              "      <td>1947</td>\n",
              "      <td>60.323</td>\n",
              "    </tr>\n",
              "    <tr>\n",
              "      <th>1</th>\n",
              "      <td>88.5</td>\n",
              "      <td>259.426</td>\n",
              "      <td>232.5</td>\n",
              "      <td>145.6</td>\n",
              "      <td>108.632</td>\n",
              "      <td>1948</td>\n",
              "      <td>61.122</td>\n",
              "    </tr>\n",
              "    <tr>\n",
              "      <th>2</th>\n",
              "      <td>88.2</td>\n",
              "      <td>258.054</td>\n",
              "      <td>368.2</td>\n",
              "      <td>161.6</td>\n",
              "      <td>109.773</td>\n",
              "      <td>1949</td>\n",
              "      <td>60.171</td>\n",
              "    </tr>\n",
              "    <tr>\n",
              "      <th>3</th>\n",
              "      <td>89.5</td>\n",
              "      <td>284.599</td>\n",
              "      <td>335.1</td>\n",
              "      <td>165.0</td>\n",
              "      <td>110.929</td>\n",
              "      <td>1950</td>\n",
              "      <td>61.187</td>\n",
              "    </tr>\n",
              "    <tr>\n",
              "      <th>4</th>\n",
              "      <td>96.2</td>\n",
              "      <td>328.975</td>\n",
              "      <td>209.9</td>\n",
              "      <td>309.9</td>\n",
              "      <td>112.075</td>\n",
              "      <td>1951</td>\n",
              "      <td>63.221</td>\n",
              "    </tr>\n",
              "    <tr>\n",
              "      <th>5</th>\n",
              "      <td>98.1</td>\n",
              "      <td>346.999</td>\n",
              "      <td>193.2</td>\n",
              "      <td>359.4</td>\n",
              "      <td>113.270</td>\n",
              "      <td>1952</td>\n",
              "      <td>63.639</td>\n",
              "    </tr>\n",
              "    <tr>\n",
              "      <th>6</th>\n",
              "      <td>99.0</td>\n",
              "      <td>365.385</td>\n",
              "      <td>187.0</td>\n",
              "      <td>354.7</td>\n",
              "      <td>115.094</td>\n",
              "      <td>1953</td>\n",
              "      <td>64.989</td>\n",
              "    </tr>\n",
              "    <tr>\n",
              "      <th>7</th>\n",
              "      <td>100.0</td>\n",
              "      <td>363.112</td>\n",
              "      <td>357.8</td>\n",
              "      <td>335.0</td>\n",
              "      <td>116.219</td>\n",
              "      <td>1954</td>\n",
              "      <td>63.761</td>\n",
              "    </tr>\n",
              "    <tr>\n",
              "      <th>8</th>\n",
              "      <td>101.2</td>\n",
              "      <td>397.469</td>\n",
              "      <td>290.4</td>\n",
              "      <td>304.8</td>\n",
              "      <td>117.388</td>\n",
              "      <td>1955</td>\n",
              "      <td>66.019</td>\n",
              "    </tr>\n",
              "    <tr>\n",
              "      <th>9</th>\n",
              "      <td>104.6</td>\n",
              "      <td>419.180</td>\n",
              "      <td>282.2</td>\n",
              "      <td>285.7</td>\n",
              "      <td>118.734</td>\n",
              "      <td>1956</td>\n",
              "      <td>67.857</td>\n",
              "    </tr>\n",
              "    <tr>\n",
              "      <th>10</th>\n",
              "      <td>108.4</td>\n",
              "      <td>442.769</td>\n",
              "      <td>293.6</td>\n",
              "      <td>279.8</td>\n",
              "      <td>120.445</td>\n",
              "      <td>1957</td>\n",
              "      <td>68.169</td>\n",
              "    </tr>\n",
              "    <tr>\n",
              "      <th>11</th>\n",
              "      <td>110.8</td>\n",
              "      <td>444.546</td>\n",
              "      <td>468.1</td>\n",
              "      <td>263.7</td>\n",
              "      <td>121.950</td>\n",
              "      <td>1958</td>\n",
              "      <td>66.513</td>\n",
              "    </tr>\n",
              "    <tr>\n",
              "      <th>12</th>\n",
              "      <td>112.6</td>\n",
              "      <td>482.704</td>\n",
              "      <td>381.3</td>\n",
              "      <td>255.2</td>\n",
              "      <td>123.366</td>\n",
              "      <td>1959</td>\n",
              "      <td>68.655</td>\n",
              "    </tr>\n",
              "    <tr>\n",
              "      <th>13</th>\n",
              "      <td>114.2</td>\n",
              "      <td>502.601</td>\n",
              "      <td>393.1</td>\n",
              "      <td>251.4</td>\n",
              "      <td>125.368</td>\n",
              "      <td>1960</td>\n",
              "      <td>69.564</td>\n",
              "    </tr>\n",
              "    <tr>\n",
              "      <th>14</th>\n",
              "      <td>115.7</td>\n",
              "      <td>518.173</td>\n",
              "      <td>480.6</td>\n",
              "      <td>257.2</td>\n",
              "      <td>127.852</td>\n",
              "      <td>1961</td>\n",
              "      <td>69.331</td>\n",
              "    </tr>\n",
              "    <tr>\n",
              "      <th>15</th>\n",
              "      <td>116.9</td>\n",
              "      <td>554.894</td>\n",
              "      <td>400.7</td>\n",
              "      <td>282.7</td>\n",
              "      <td>130.081</td>\n",
              "      <td>1962</td>\n",
              "      <td>70.551</td>\n",
              "    </tr>\n",
              "  </tbody>\n",
              "</table>\n",
              "</div>"
            ],
            "text/plain": [
              "        A  Current      C  Voltage        E     F       G\n",
              "0    83.0  234.289  235.6    159.0  107.608  1947  60.323\n",
              "1    88.5  259.426  232.5    145.6  108.632  1948  61.122\n",
              "2    88.2  258.054  368.2    161.6  109.773  1949  60.171\n",
              "3    89.5  284.599  335.1    165.0  110.929  1950  61.187\n",
              "4    96.2  328.975  209.9    309.9  112.075  1951  63.221\n",
              "5    98.1  346.999  193.2    359.4  113.270  1952  63.639\n",
              "6    99.0  365.385  187.0    354.7  115.094  1953  64.989\n",
              "7   100.0  363.112  357.8    335.0  116.219  1954  63.761\n",
              "8   101.2  397.469  290.4    304.8  117.388  1955  66.019\n",
              "9   104.6  419.180  282.2    285.7  118.734  1956  67.857\n",
              "10  108.4  442.769  293.6    279.8  120.445  1957  68.169\n",
              "11  110.8  444.546  468.1    263.7  121.950  1958  66.513\n",
              "12  112.6  482.704  381.3    255.2  123.366  1959  68.655\n",
              "13  114.2  502.601  393.1    251.4  125.368  1960  69.564\n",
              "14  115.7  518.173  480.6    257.2  127.852  1961  69.331\n",
              "15  116.9  554.894  400.7    282.7  130.081  1962  70.551"
            ]
          },
          "metadata": {
            "tags": []
          },
          "execution_count": 2
        }
      ]
    },
    {
      "cell_type": "code",
      "metadata": {
        "colab": {
          "base_uri": "https://localhost:8080/"
        },
        "id": "xEzYl3EwRd26",
        "outputId": "a3b8df1f-c51b-4c39-8ca8-d3977686368b"
      },
      "source": [
        "print(df.columns)"
      ],
      "execution_count": null,
      "outputs": [
        {
          "output_type": "stream",
          "text": [
            "Index(['A', 'Current', 'C', 'Voltage', 'E', 'F', 'G'], dtype='object')\n"
          ],
          "name": "stdout"
        }
      ]
    },
    {
      "cell_type": "code",
      "metadata": {
        "colab": {
          "base_uri": "https://localhost:8080/",
          "height": 551
        },
        "id": "yWG-eURhSlZK",
        "outputId": "edc7c7be-ad5a-41f3-d0cc-851676ad2d52"
      },
      "source": [
        "df[['Current','Voltage']]"
      ],
      "execution_count": null,
      "outputs": [
        {
          "output_type": "execute_result",
          "data": {
            "text/html": [
              "<div>\n",
              "<style scoped>\n",
              "    .dataframe tbody tr th:only-of-type {\n",
              "        vertical-align: middle;\n",
              "    }\n",
              "\n",
              "    .dataframe tbody tr th {\n",
              "        vertical-align: top;\n",
              "    }\n",
              "\n",
              "    .dataframe thead th {\n",
              "        text-align: right;\n",
              "    }\n",
              "</style>\n",
              "<table border=\"1\" class=\"dataframe\">\n",
              "  <thead>\n",
              "    <tr style=\"text-align: right;\">\n",
              "      <th></th>\n",
              "      <th>Current</th>\n",
              "      <th>Voltage</th>\n",
              "    </tr>\n",
              "  </thead>\n",
              "  <tbody>\n",
              "    <tr>\n",
              "      <th>0</th>\n",
              "      <td>234.289</td>\n",
              "      <td>159.0</td>\n",
              "    </tr>\n",
              "    <tr>\n",
              "      <th>1</th>\n",
              "      <td>259.426</td>\n",
              "      <td>145.6</td>\n",
              "    </tr>\n",
              "    <tr>\n",
              "      <th>2</th>\n",
              "      <td>258.054</td>\n",
              "      <td>161.6</td>\n",
              "    </tr>\n",
              "    <tr>\n",
              "      <th>3</th>\n",
              "      <td>284.599</td>\n",
              "      <td>165.0</td>\n",
              "    </tr>\n",
              "    <tr>\n",
              "      <th>4</th>\n",
              "      <td>328.975</td>\n",
              "      <td>309.9</td>\n",
              "    </tr>\n",
              "    <tr>\n",
              "      <th>5</th>\n",
              "      <td>346.999</td>\n",
              "      <td>359.4</td>\n",
              "    </tr>\n",
              "    <tr>\n",
              "      <th>6</th>\n",
              "      <td>365.385</td>\n",
              "      <td>354.7</td>\n",
              "    </tr>\n",
              "    <tr>\n",
              "      <th>7</th>\n",
              "      <td>363.112</td>\n",
              "      <td>335.0</td>\n",
              "    </tr>\n",
              "    <tr>\n",
              "      <th>8</th>\n",
              "      <td>397.469</td>\n",
              "      <td>304.8</td>\n",
              "    </tr>\n",
              "    <tr>\n",
              "      <th>9</th>\n",
              "      <td>419.180</td>\n",
              "      <td>285.7</td>\n",
              "    </tr>\n",
              "    <tr>\n",
              "      <th>10</th>\n",
              "      <td>442.769</td>\n",
              "      <td>279.8</td>\n",
              "    </tr>\n",
              "    <tr>\n",
              "      <th>11</th>\n",
              "      <td>444.546</td>\n",
              "      <td>263.7</td>\n",
              "    </tr>\n",
              "    <tr>\n",
              "      <th>12</th>\n",
              "      <td>482.704</td>\n",
              "      <td>255.2</td>\n",
              "    </tr>\n",
              "    <tr>\n",
              "      <th>13</th>\n",
              "      <td>502.601</td>\n",
              "      <td>251.4</td>\n",
              "    </tr>\n",
              "    <tr>\n",
              "      <th>14</th>\n",
              "      <td>518.173</td>\n",
              "      <td>257.2</td>\n",
              "    </tr>\n",
              "    <tr>\n",
              "      <th>15</th>\n",
              "      <td>554.894</td>\n",
              "      <td>282.7</td>\n",
              "    </tr>\n",
              "  </tbody>\n",
              "</table>\n",
              "</div>"
            ],
            "text/plain": [
              "    Current  Voltage\n",
              "0   234.289    159.0\n",
              "1   259.426    145.6\n",
              "2   258.054    161.6\n",
              "3   284.599    165.0\n",
              "4   328.975    309.9\n",
              "5   346.999    359.4\n",
              "6   365.385    354.7\n",
              "7   363.112    335.0\n",
              "8   397.469    304.8\n",
              "9   419.180    285.7\n",
              "10  442.769    279.8\n",
              "11  444.546    263.7\n",
              "12  482.704    255.2\n",
              "13  502.601    251.4\n",
              "14  518.173    257.2\n",
              "15  554.894    282.7"
            ]
          },
          "metadata": {
            "tags": []
          },
          "execution_count": 85
        }
      ]
    },
    {
      "cell_type": "code",
      "metadata": {
        "colab": {
          "base_uri": "https://localhost:8080/",
          "height": 241
        },
        "id": "xsUuQZN8SyCZ",
        "outputId": "52c13b72-902a-4a52-f7bd-a3ea8f7bb2c4"
      },
      "source": [
        "plt.figure(figsize=(5,3))\n",
        "plt.title('Current vs Voltage')\n",
        "plt.xlabel('Current')\n",
        "plt.ylabel('Voltage')\n",
        "plt.plot(df['Current'],df['Voltage'],'c.')\n",
        "plt.show()"
      ],
      "execution_count": null,
      "outputs": [
        {
          "output_type": "display_data",
          "data": {
            "image/png": "[encoded data removed]",
            "text/plain": [
              "<Figure size 360x216 with 1 Axes>"
            ]
          },
          "metadata": {
            "tags": [],
            "needs_background": "light"
          }
        }
      ]
    },
    {
      "cell_type": "code",
      "metadata": {
        "colab": {
          "base_uri": "https://localhost:8080/",
          "height": 311
        },
        "id": "DIhz7lBxUPIm",
        "outputId": "db1bbec8-9eeb-4a8d-a4fa-4d0728710727"
      },
      "source": [
        "p=Polynomial([1,2,3,5,30,50])\n",
        "x=np.linspace(-1000,1000,2001)\n",
        "print(x)\n",
        "plt.plot(x,p(x),'.')"
      ],
      "execution_count": null,
      "outputs": [
        {
          "output_type": "stream",
          "text": [
            "[-1000.  -999.  -998. ...   998.   999.  1000.]\n"
          ],
          "name": "stdout"
        },
        {
          "output_type": "execute_result",
          "data": {
            "text/plain": [
              "[<matplotlib.lines.Line2D at 0x7f19dddd3810>]"
            ]
          },
          "metadata": {
            "tags": []
          },
          "execution_count": 87
        },
        {
          "output_type": "display_data",
          "data": {
            "image/png": "[encoded data removed]",
            "text/plain": [
              "<Figure size 432x288 with 1 Axes>"
            ]
          },
          "metadata": {
            "tags": [],
            "needs_background": "light"
          }
        }
      ]
    },
    {
      "cell_type": "code",
      "metadata": {
        "colab": {
          "base_uri": "https://localhost:8080/",
          "height": 105
        },
        "id": "XpF6OI7HYEoe",
        "outputId": "603beca4-dedf-4933-c549-c97e5182fe7a"
      },
      "source": [
        "pfit=Polynomial.fit(df['Current'],df['Voltage'],4)\n",
        "pfit"
      ],
      "execution_count": null,
      "outputs": [
        {
          "output_type": "execute_result",
          "data": {
            "text/latex": "$x \\mapsto \\text{330.5880103704908} - \\text{47.06931127203628}\\,\\left(\\text{-2.4615430202273823} + \\text{0.006238205891985465}x\\right) - \\text{335.2220710341532}\\,\\left(\\text{-2.4615430202273823} + \\text{0.006238205891985465}x\\right)^{2} + \\text{130.4489803861155}\\,\\left(\\text{-2.4615430202273823} + \\text{0.006238205891985465}x\\right)^{3} + \\text{221.62925930966716}\\,\\left(\\text{-2.4615430202273823} + \\text{0.006238205891985465}x\\right)^{4}$",
            "text/plain": [
              "Polynomial([ 330.58801037,  -47.06931127, -335.22207103,  130.44898039,\n",
              "        221.62925931], domain=[234.289, 554.894], window=[-1.,  1.])"
            ]
          },
          "metadata": {
            "tags": []
          },
          "execution_count": 88
        }
      ]
    },
    {
      "cell_type": "code",
      "metadata": {
        "id": "SobmCkxbcNM6"
      },
      "source": [
        ""
      ],
      "execution_count": null,
      "outputs": []
    },
    {
      "cell_type": "code",
      "metadata": {
        "colab": {
          "base_uri": "https://localhost:8080/",
          "height": 295
        },
        "id": "d6oc6thFY8vg",
        "outputId": "7fe19df2-f119-45aa-90c5-1b20f009e335"
      },
      "source": [
        "plt.figure(figsize=(5,4))\n",
        "plt.title('Current vs Voltage')\n",
        "plt.xlabel('Current')\n",
        "plt.ylabel('Voltage')\n",
        "plt.plot(df['Current'],df['Voltage'],'c.')\n",
        "plt.plot(df['Current'],pfit(df['Current']))\n",
        "plt.savefig('mygraph.png')\n",
        "plt.grid()\n",
        "plt.show()"
      ],
      "execution_count": null,
      "outputs": [
        {
          "output_type": "display_data",
          "data": {
            "image/png": "[encoded data removed]",
            "text/plain": [
              "<Figure size 360x288 with 1 Axes>"
            ]
          },
          "metadata": {
            "tags": [],
            "needs_background": "light"
          }
        }
      ]
    },
    {
      "cell_type": "code",
      "metadata": {
        "colab": {
          "base_uri": "https://localhost:8080/"
        },
        "id": "iETeecQVe1ix",
        "outputId": "a6ecacfe-7abc-45ec-c3d8-97e351519362"
      },
      "source": [
        "x1=400\n",
        "y1=pfit(400)\n",
        "x2=450\n",
        "y2=pfit(450)\n",
        "\n",
        "slope=(y2-y1)/(x2-x1)\n",
        "print(slope)\n"
      ],
      "execution_count": null,
      "outputs": [
        {
          "output_type": "stream",
          "text": [
            "-0.9160952248533988\n"
          ],
          "name": "stdout"
        }
      ]
    },
    {
      "cell_type": "code",
      "metadata": {
        "colab": {
          "base_uri": "https://localhost:8080/"
        },
        "id": "-tsB-w9rcms8",
        "outputId": "5d0f9d62-62c9-40c1-f0dd-2a2fc1b1f0b3"
      },
      "source": [
        "slope=pfit.deriv()(400)\n",
        "slope"
      ],
      "execution_count": null,
      "outputs": [
        {
          "output_type": "execute_result",
          "data": {
            "text/plain": [
              "-0.4317469561967591"
            ]
          },
          "metadata": {
            "tags": []
          },
          "execution_count": 95
        }
      ]
    },
    {
      "cell_type": "code",
      "metadata": {
        "id": "eOTAH4rmq7SJ"
      },
      "source": [
        ""
      ],
      "execution_count": null,
      "outputs": []
    },
    {
      "cell_type": "markdown",
      "metadata": {
        "id": "FuF9k23gsUDo"
      },
      "source": [
        "## **MERCURY FINDING PEAKS**"
      ]
    },
    {
      "cell_type": "code",
      "metadata": {
        "colab": {
          "base_uri": "https://localhost:8080/",
          "height": 423
        },
        "id": "9tQLnmZnsRuu",
        "outputId": "3d1e5916-ce44-4acc-80ce-969a924b5c92"
      },
      "source": [
        "url = 'Mercury.csv'\n",
        "df = pd.read_csv(url,header=None,names=['A','B','C','D','E'])\n",
        "df"
      ],
      "execution_count": null,
      "outputs": [
        {
          "output_type": "execute_result",
          "data": {
            "text/html": [
              "<div>\n",
              "<style scoped>\n",
              "    .dataframe tbody tr th:only-of-type {\n",
              "        vertical-align: middle;\n",
              "    }\n",
              "\n",
              "    .dataframe tbody tr th {\n",
              "        vertical-align: top;\n",
              "    }\n",
              "\n",
              "    .dataframe thead th {\n",
              "        text-align: right;\n",
              "    }\n",
              "</style>\n",
              "<table border=\"1\" class=\"dataframe\">\n",
              "  <thead>\n",
              "    <tr style=\"text-align: right;\">\n",
              "      <th></th>\n",
              "      <th>A</th>\n",
              "      <th>B</th>\n",
              "      <th>C</th>\n",
              "      <th>D</th>\n",
              "      <th>E</th>\n",
              "    </tr>\n",
              "  </thead>\n",
              "  <tbody>\n",
              "    <tr>\n",
              "      <th>0</th>\n",
              "      <td>0.02</td>\n",
              "      <td>0.58</td>\n",
              "      <td>190</td>\n",
              "      <td>2.1</td>\n",
              "      <td>6.3</td>\n",
              "    </tr>\n",
              "    <tr>\n",
              "      <th>1</th>\n",
              "      <td>0.04</td>\n",
              "      <td>0.57</td>\n",
              "      <td>190</td>\n",
              "      <td>2.1</td>\n",
              "      <td>6.3</td>\n",
              "    </tr>\n",
              "    <tr>\n",
              "      <th>2</th>\n",
              "      <td>0.07</td>\n",
              "      <td>0.56</td>\n",
              "      <td>190</td>\n",
              "      <td>2.1</td>\n",
              "      <td>6.3</td>\n",
              "    </tr>\n",
              "    <tr>\n",
              "      <th>3</th>\n",
              "      <td>0.09</td>\n",
              "      <td>0.57</td>\n",
              "      <td>190</td>\n",
              "      <td>2.1</td>\n",
              "      <td>6.3</td>\n",
              "    </tr>\n",
              "    <tr>\n",
              "      <th>4</th>\n",
              "      <td>0.12</td>\n",
              "      <td>0.57</td>\n",
              "      <td>190</td>\n",
              "      <td>2.1</td>\n",
              "      <td>6.3</td>\n",
              "    </tr>\n",
              "    <tr>\n",
              "      <th>...</th>\n",
              "      <td>...</td>\n",
              "      <td>...</td>\n",
              "      <td>...</td>\n",
              "      <td>...</td>\n",
              "      <td>...</td>\n",
              "    </tr>\n",
              "    <tr>\n",
              "      <th>2452</th>\n",
              "      <td>59.90</td>\n",
              "      <td>17.78</td>\n",
              "      <td>191</td>\n",
              "      <td>2.1</td>\n",
              "      <td>6.3</td>\n",
              "    </tr>\n",
              "    <tr>\n",
              "      <th>2453</th>\n",
              "      <td>59.92</td>\n",
              "      <td>17.42</td>\n",
              "      <td>191</td>\n",
              "      <td>2.1</td>\n",
              "      <td>6.3</td>\n",
              "    </tr>\n",
              "    <tr>\n",
              "      <th>2454</th>\n",
              "      <td>59.95</td>\n",
              "      <td>17.11</td>\n",
              "      <td>191</td>\n",
              "      <td>2.1</td>\n",
              "      <td>6.3</td>\n",
              "    </tr>\n",
              "    <tr>\n",
              "      <th>2455</th>\n",
              "      <td>59.97</td>\n",
              "      <td>16.90</td>\n",
              "      <td>191</td>\n",
              "      <td>2.1</td>\n",
              "      <td>6.3</td>\n",
              "    </tr>\n",
              "    <tr>\n",
              "      <th>2456</th>\n",
              "      <td>59.99</td>\n",
              "      <td>16.69</td>\n",
              "      <td>191</td>\n",
              "      <td>2.1</td>\n",
              "      <td>6.3</td>\n",
              "    </tr>\n",
              "  </tbody>\n",
              "</table>\n",
              "<p>2457 rows × 5 columns</p>\n",
              "</div>"
            ],
            "text/plain": [
              "          A      B    C    D    E\n",
              "0      0.02   0.58  190  2.1  6.3\n",
              "1      0.04   0.57  190  2.1  6.3\n",
              "2      0.07   0.56  190  2.1  6.3\n",
              "3      0.09   0.57  190  2.1  6.3\n",
              "4      0.12   0.57  190  2.1  6.3\n",
              "...     ...    ...  ...  ...  ...\n",
              "2452  59.90  17.78  191  2.1  6.3\n",
              "2453  59.92  17.42  191  2.1  6.3\n",
              "2454  59.95  17.11  191  2.1  6.3\n",
              "2455  59.97  16.90  191  2.1  6.3\n",
              "2456  59.99  16.69  191  2.1  6.3\n",
              "\n",
              "[2457 rows x 5 columns]"
            ]
          },
          "metadata": {
            "tags": []
          },
          "execution_count": 5
        }
      ]
    },
    {
      "cell_type": "code",
      "metadata": {
        "colab": {
          "base_uri": "https://localhost:8080/",
          "height": 283
        },
        "id": "NyagiQo8s8A0",
        "outputId": "b5f0dffe-6052-41bf-c3a2-400b1b32c6a1"
      },
      "source": [
        "u1=np.array(df['A'])\n",
        "ia=np.array(df['B'])\n",
        "plt.plot(u1,ia)"
      ],
      "execution_count": null,
      "outputs": [
        {
          "output_type": "execute_result",
          "data": {
            "text/plain": [
              "[<matplotlib.lines.Line2D at 0x7f4a8a739750>]"
            ]
          },
          "metadata": {
            "tags": []
          },
          "execution_count": 6
        },
        {
          "output_type": "display_data",
          "data": {
            "image/png": "[encoded data removed]",
            "text/plain": [
              "<Figure size 432x288 with 1 Axes>"
            ]
          },
          "metadata": {
            "tags": [],
            "needs_background": "light"
          }
        }
      ]
    },
    {
      "cell_type": "code",
      "metadata": {
        "id": "0KR4cgV5tFqP"
      },
      "source": [
        "from scipy.signal import find_peaks,find_peaks_cwt\n",
        "from scipy.signal import argrelextrema\n"
      ],
      "execution_count": null,
      "outputs": []
    },
    {
      "cell_type": "code",
      "metadata": {
        "colab": {
          "base_uri": "https://localhost:8080/",
          "height": 609
        },
        "id": "f1Ku7OTfziiM",
        "outputId": "0dae9229-a1a2-4a84-ecd5-d1100f83098a"
      },
      "source": [
        "#adjust distance,height for better result\n",
        "peak_indices=find_peaks(ia,threshold=None,distance=50,height=2)[0]\n",
        "\n",
        "plt.figure(figsize=(15,10))\n",
        "plt.xticks(u1[peak_indices],rotation='vertical')\n",
        "plt.yticks(ia[peak_indices],rotation='horizontal')\n",
        "plt.plot(u1,ia,'--')\n",
        "plt.plot(u1[peak_indices],ia[peak_indices],'.')\n",
        "plt.vlines(u1[peak_indices],np.min(ia),np.max(ia),'#000000',linewidth=0.1)\n",
        "plt.hlines(ia[peak_indices],np.min(u1),np.max(u1),'#000000',linewidth=0.1)\n",
        "plt.title('Mercury')\n",
        "plt.xlabel('u1')\n",
        "plt.ylabel('ia')\n",
        "plt.savefig('Mercury.pdf')\n",
        "plt.show()"
      ],
      "execution_count": null,
      "outputs": [
        {
          "output_type": "display_data",
          "data": {
            "image/png": "[encoded data removed]",
            "text/plain": [
              "<Figure size 1080x720 with 1 Axes>"
            ]
          },
          "metadata": {
            "tags": [],
            "needs_background": "light"
          }
        }
      ]
    },
    {
      "cell_type": "code",
      "metadata": {
        "id": "knCE_ohjN8eF"
      },
      "source": [
        ""
      ],
      "execution_count": null,
      "outputs": []
    },
    {
      "cell_type": "code",
      "metadata": {
        "colab": {
          "base_uri": "https://localhost:8080/"
        },
        "id": "GhMCgHy0z9zK",
        "outputId": "bcdfec53-e399-4616-c0f0-ca2f60482c60"
      },
      "source": [
        "peak_distance=48.86-43.98\n",
        "peak_distance"
      ],
      "execution_count": null,
      "outputs": [
        {
          "output_type": "execute_result",
          "data": {
            "text/plain": [
              "4.880000000000003"
            ]
          },
          "metadata": {
            "tags": []
          },
          "execution_count": 9
        }
      ]
    }
  ]
}